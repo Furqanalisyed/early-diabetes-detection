{
 "cells": [
  {
   "cell_type": "code",
   "execution_count": null,
   "id": "ead5db0c-e30c-4915-9ef5-04ad094a143c",
   "metadata": {},
   "outputs": [],
   "source": [
    "# 1. Import Libraries\n",
    "import pandas as pd\n",
    "import numpy as np\n",
    "import matplotlib.pyplot as plt\n",
    "import seaborn as sns\n",
    "\n",
    "from sklearn.model_selection import train_test_split\n",
    "from sklearn.preprocessing import StandardScaler\n",
    "from sklearn.linear_model import LogisticRegression\n",
    "from sklearn.metrics import classification_report, confusion_matrix, roc_auc_score, roc_curve\n",
    "\n",
    "# 2. Load Dataset\n",
    "df = pd.read_csv('../data/diabetes.csv')\n",
    "df.head()"
   ]
  },
  {
   "cell_type": "code",
   "execution_count": null,
   "id": "03ba5b39-3aa7-4bd2-8849-847bff90d1a8",
   "metadata": {},
   "outputs": [],
   "source": [
    "# 3. Basic Info\n",
    "df.info()\n",
    "df.describe()\n",
    "df.isnull().sum()"
   ]
  },
  {
   "cell_type": "code",
   "execution_count": null,
   "id": "29ba0903-6bd4-4914-9eea-f767ce0e0b48",
   "metadata": {},
   "outputs": [],
   "source": [
    "# 4. Check for Invalid Zeroes\n",
    "cols_with_zero_issues = ['Glucose', 'BloodPressure', 'SkinThickness', 'Insulin', 'BMI']\n",
    "for col in cols_with_zero_issues:\n",
    "    print(f\"{col} - zero values: {df[col].isin([0]).sum()}\")"
   ]
  },
  {
   "cell_type": "code",
   "execution_count": null,
   "id": "cafa4087-3ae6-48f4-af60-b8272aaacf52",
   "metadata": {},
   "outputs": [],
   "source": [
    "# 5. Replace 0 with NaN, Then Impute (Median)\n",
    "df[cols_with_zero_issues] = df[cols_with_zero_issues].replace(0, np.nan)\n",
    "df.fillna(df.median(numeric_only=True), inplace=True)"
   ]
  },
  {
   "cell_type": "code",
   "execution_count": null,
   "id": "4c843c37-4b80-4d90-a9e6-daff0fea1b63",
   "metadata": {},
   "outputs": [],
   "source": [
    "# 6. EDA – Correlation Matrix\n",
    "plt.figure(figsize=(10,6))\n",
    "sns.heatmap(df.corr(), annot=True, cmap='coolwarm')\n",
    "plt.title('Correlation Matrix')\n",
    "plt.show()"
   ]
  },
  {
   "cell_type": "code",
   "execution_count": null,
   "id": "3da2d0e3-a6cf-4dee-be0f-45c92454d825",
   "metadata": {},
   "outputs": [],
   "source": [
    "# 7. Feature Scaling\n",
    "X = df.drop('Outcome', axis=1)\n",
    "y = df['Outcome']\n",
    "\n",
    "scaler = StandardScaler()\n",
    "X_scaled = scaler.fit_transform(X)\n",
    "\n",
    "# 8. Train-Test Split\n",
    "X_train, X_test, y_train, y_test = train_test_split(X_scaled, y, test_size=0.2, random_state=42, stratify=y)"
   ]
  },
  {
   "cell_type": "code",
   "execution_count": null,
   "id": "f257a6f8-3912-4af0-abfb-be96bd9e8fe7",
   "metadata": {},
   "outputs": [],
   "source": []
  }
 ],
 "metadata": {
  "kernelspec": {
   "display_name": "Python 3 (ipykernel)",
   "language": "python",
   "name": "python3"
  },
  "language_info": {
   "codemirror_mode": {
    "name": "ipython",
    "version": 3
   },
   "file_extension": ".py",
   "mimetype": "text/x-python",
   "name": "python",
   "nbconvert_exporter": "python",
   "pygments_lexer": "ipython3",
   "version": "3.12.7"
  }
 },
 "nbformat": 4,
 "nbformat_minor": 5
}
