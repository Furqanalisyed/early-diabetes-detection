{
 "cells": [
  {
   "cell_type": "code",
   "execution_count": null,
   "id": "ead5db0c-e30c-4915-9ef5-04ad094a143c",
   "metadata": {},
   "outputs": [],
   "source": []
  }
 ],
 "metadata": {
  "kernelspec": {
   "display_name": "",
   "name": ""
  },
  "language_info": {
   "name": ""
  }
 },
 "nbformat": 4,
 "nbformat_minor": 5
}
